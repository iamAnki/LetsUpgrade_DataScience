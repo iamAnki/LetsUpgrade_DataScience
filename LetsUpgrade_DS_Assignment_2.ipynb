{
 "cells": [
  {
   "cell_type": "markdown",
   "metadata": {},
   "source": [
    "# DAY_2"
   ]
  },
  {
   "cell_type": "markdown",
   "metadata": {},
   "source": [
    "Q-1) Create an empty list. Accept 10 numbers from users and append to the list if it is an even number."
   ]
  },
  {
   "cell_type": "code",
   "execution_count": 1,
   "metadata": {},
   "outputs": [
    {
     "name": "stdout",
     "output_type": "stream",
     "text": [
      "3\n",
      "2\n",
      "4\n",
      "1\n",
      "6\n",
      "8\n",
      "9\n",
      "2\n",
      "4\n",
      "6\n",
      "[2, 4, 6, 8, 2, 4, 6]\n"
     ]
    }
   ],
   "source": [
    "li = []\n",
    "\n",
    "for i in range(10):\n",
    "    n = int(input())\n",
    "    li.append(n)\n",
    "    \n",
    "print([i for i in li if i % 2 == 0])"
   ]
  },
  {
   "cell_type": "markdown",
   "metadata": {},
   "source": [
    "Q-2) Create a notebook on List Comprehension.\n"
   ]
  },
  {
   "cell_type": "code",
   "execution_count": 2,
   "metadata": {},
   "outputs": [
    {
     "name": "stdout",
     "output_type": "stream",
     "text": [
      "World\n",
      "['W', 'o', 'r', 'l', 'd']\n"
     ]
    }
   ],
   "source": [
    "text='World'\n",
    "print(text)\n",
    "list=[i for i in text] #List Comprehension\n",
    "print(list)"
   ]
  },
  {
   "cell_type": "markdown",
   "metadata": {},
   "source": [
    "Q-3) You have seen in the videos how powerful dictionary data structure is. In this assignment, given a number n, you have to write a program that generates a dictionary d which contains (i, i*i), where i is from 1 to n (both included). Then you have to just print this dictionary d. Example: Input: 4 will give output as {1: 1, 2: 4, 3: 9, 4: 16} Input Format: Take the number n in a single line. Output Format: Print the dictionary d in a single line. Example: Input: 8 Output: {1: 1, 2: 4, 3: 9, 4: 16, 5: 25, 6: 36, 7: 49, 8: 64}"
   ]
  },
  {
   "cell_type": "code",
   "execution_count": 3,
   "metadata": {},
   "outputs": [
    {
     "name": "stdout",
     "output_type": "stream",
     "text": [
      " 4\n",
      "{1: 1, 2: 4, 3: 9, 4: 16}\n"
     ]
    }
   ],
   "source": [
    "dict1 ={}\n",
    "n = int(input(\" \"))\n",
    "for i in range(1,n+1):\n",
    "    dict1[i]=i*i\n",
    "\n",
    "print(dict1)"
   ]
  },
  {
   "cell_type": "markdown",
   "metadata": {},
   "source": [
    "Q-4) There is a robot which wants to go the charging point to charge itself. The robot moves in a 2-D plane from the original point (0,0). The robot can move toward UP, DOWN, LEFT and RIGHT with given steps. The trace of robot movement is shown as the following: UP 5 DOWN 3 LEFT 3 RIGHT 2 Then, the output of the program should be: 2 The numbers after the direction are steps. Write a program to compute the distance between the current position after a sequence of movement and original point. If the distance is a float, then just print the nearest integer (use round() function for that and then convert it into an integer). Input Format: The first line of the input contains a number n which implies the number of directions to be given. The next n lines contain the direction and the step separated by a space. Output Format: Print the distance from the original position to the current position. Example: Input: 4 UP 5 DOWN 3 LEFT 3 RIGHT 2 Output: 2"
   ]
  },
  {
   "cell_type": "code",
   "execution_count": null,
   "metadata": {},
   "outputs": [],
   "source": [
    "import math\n",
    "\n",
    "n = int(input(\"Input:\\n\"))\n",
    "data = {'x':0,'y':0}\n",
    "\n",
    "for num in range(n):\n",
    "    s = input().upper()\n",
    "    pos = s.find(\" \")\n",
    "    \n",
    "    direction = \"\"\n",
    "    step = 0\n",
    "    if pos != -1:\n",
    "        direction = s[0:pos]\n",
    "        step = int(s[pos+1:len(s)])\n",
    "    #print(direction)\n",
    "    #print(step)\n",
    "    \n",
    "    if direction == \"UP\":\n",
    "        data['x'] += step\n",
    "    elif direction == \"DOWN\":\n",
    "        data['x'] -= step\n",
    "    elif direction == \"LEFT\":\n",
    "        data['y'] -= step\n",
    "    elif direction == \"RIGHT\":\n",
    "        data['y'] += step\n",
    "    else:\n",
    "        print(\"Error: Wrong direction\")\n",
    "    \n",
    "data\n",
    "\n",
    "#distance from beginning is:\n",
    "dist = math.sqrt(data['x']**2 + data['y']**2)\n",
    "print(\"Output:\\n\" + str(round(dist)))"
   ]
  },
  {
   "cell_type": "code",
   "execution_count": null,
   "metadata": {},
   "outputs": [],
   "source": []
  },
  {
   "cell_type": "code",
   "execution_count": null,
   "metadata": {},
   "outputs": [],
   "source": []
  },
  {
   "cell_type": "code",
   "execution_count": null,
   "metadata": {},
   "outputs": [],
   "source": []
  }
 ],
 "metadata": {
  "kernelspec": {
   "display_name": "Python 3",
   "language": "python",
   "name": "python3"
  },
  "language_info": {
   "codemirror_mode": {
    "name": "ipython",
    "version": 3
   },
   "file_extension": ".py",
   "mimetype": "text/x-python",
   "name": "python",
   "nbconvert_exporter": "python",
   "pygments_lexer": "ipython3",
   "version": "3.7.4"
  }
 },
 "nbformat": 4,
 "nbformat_minor": 2
}
