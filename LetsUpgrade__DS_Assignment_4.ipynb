{
  "nbformat": 4,
  "nbformat_minor": 0,
  "metadata": {
    "colab": {
      "name": "LetsUpgrade _DS_Assignment_4.ipynb",
      "provenance": []
    },
    "kernelspec": {
      "name": "python3",
      "display_name": "Python 3"
    }
  },
  "cells": [
    {
      "cell_type": "markdown",
      "metadata": {
        "id": "VsTDMZaQ3a3Y"
      },
      "source": [
        "# **Question 1:**"
      ]
    },
    {
      "cell_type": "markdown",
      "metadata": {
        "id": "BmfKI2N-3e1x"
      },
      "source": [
        "How to import pandas and check the version?"
      ]
    },
    {
      "cell_type": "code",
      "metadata": {
        "id": "nwcuNj7Q3hlI",
        "outputId": "724ce449-1c3a-49dd-f2c1-becb2f6b09d3",
        "colab": {
          "base_uri": "https://localhost:8080/"
        }
      },
      "source": [
        "import pandas as pd\n",
        "print(pd.__version__)"
      ],
      "execution_count": 1,
      "outputs": [
        {
          "output_type": "stream",
          "text": [
            "1.1.4\n"
          ],
          "name": "stdout"
        }
      ]
    },
    {
      "cell_type": "markdown",
      "metadata": {
        "id": "eXjlvTlF7RHQ"
      },
      "source": [
        "# **Question 2:**"
      ]
    },
    {
      "cell_type": "markdown",
      "metadata": {
        "id": "aXnyNmx17UXq"
      },
      "source": [
        "How to create a series from a numpy array?"
      ]
    },
    {
      "cell_type": "code",
      "metadata": {
        "id": "Wr5Lqfr_7ZTi",
        "outputId": "6cc34aae-e5c9-44a9-d954-ccfc1ed65cae",
        "colab": {
          "base_uri": "https://localhost:8080/"
        }
      },
      "source": [
        "import numpy as np\n",
        "a=np.array([1,2,3,4,5])\n",
        "b=pd.Series(a)\n",
        "b"
      ],
      "execution_count": 2,
      "outputs": [
        {
          "output_type": "execute_result",
          "data": {
            "text/plain": [
              "0    1\n",
              "1    2\n",
              "2    3\n",
              "3    4\n",
              "4    5\n",
              "dtype: int64"
            ]
          },
          "metadata": {
            "tags": []
          },
          "execution_count": 2
        }
      ]
    },
    {
      "cell_type": "markdown",
      "metadata": {
        "id": "0kP4Eyrt7gEL"
      },
      "source": [
        "# **Question 3:**"
      ]
    },
    {
      "cell_type": "markdown",
      "metadata": {
        "id": "33rB0iUf7jIP"
      },
      "source": [
        "How to convert the index of a series into a column of a dataframe?"
      ]
    },
    {
      "cell_type": "code",
      "metadata": {
        "id": "dMvZPWGh7mFT",
        "outputId": "f81a0e08-5e87-4090-dc64-fccff156c07f",
        "colab": {
          "base_uri": "https://localhost:8080/",
          "height": 195
        }
      },
      "source": [
        "# importing numpy and pandas with alias name\n",
        "import numpy as np\n",
        "import pandas as pd\n",
        "\n",
        "# using numpy array value\n",
        "data = np.array(['a', 'b', 'c', 'd', 'e']) \n",
        "  \n",
        "# creating series from array with user index value\n",
        "series = pd.Series(data, index = [1, 2, 3, 4, 5]) \n",
        "\n",
        "# convert series to dataframe \n",
        "df = series.to_frame().reset_index() \n",
        "  \n",
        "# show the dataframe \n",
        "df"
      ],
      "execution_count": 6,
      "outputs": [
        {
          "output_type": "execute_result",
          "data": {
            "text/html": [
              "<div>\n",
              "<style scoped>\n",
              "    .dataframe tbody tr th:only-of-type {\n",
              "        vertical-align: middle;\n",
              "    }\n",
              "\n",
              "    .dataframe tbody tr th {\n",
              "        vertical-align: top;\n",
              "    }\n",
              "\n",
              "    .dataframe thead th {\n",
              "        text-align: right;\n",
              "    }\n",
              "</style>\n",
              "<table border=\"1\" class=\"dataframe\">\n",
              "  <thead>\n",
              "    <tr style=\"text-align: right;\">\n",
              "      <th></th>\n",
              "      <th>index</th>\n",
              "      <th>0</th>\n",
              "    </tr>\n",
              "  </thead>\n",
              "  <tbody>\n",
              "    <tr>\n",
              "      <th>0</th>\n",
              "      <td>1</td>\n",
              "      <td>a</td>\n",
              "    </tr>\n",
              "    <tr>\n",
              "      <th>1</th>\n",
              "      <td>2</td>\n",
              "      <td>b</td>\n",
              "    </tr>\n",
              "    <tr>\n",
              "      <th>2</th>\n",
              "      <td>3</td>\n",
              "      <td>c</td>\n",
              "    </tr>\n",
              "    <tr>\n",
              "      <th>3</th>\n",
              "      <td>4</td>\n",
              "      <td>d</td>\n",
              "    </tr>\n",
              "    <tr>\n",
              "      <th>4</th>\n",
              "      <td>5</td>\n",
              "      <td>e</td>\n",
              "    </tr>\n",
              "  </tbody>\n",
              "</table>\n",
              "</div>"
            ],
            "text/plain": [
              "   index  0\n",
              "0      1  a\n",
              "1      2  b\n",
              "2      3  c\n",
              "3      4  d\n",
              "4      5  e"
            ]
          },
          "metadata": {
            "tags": []
          },
          "execution_count": 6
        }
      ]
    },
    {
      "cell_type": "markdown",
      "metadata": {
        "id": "OuNlGu_j7rIr"
      },
      "source": [
        "# **Question 4:**"
      ]
    },
    {
      "cell_type": "markdown",
      "metadata": {
        "id": "MxZP9YET7uSW"
      },
      "source": [
        "Write the code to list all the datasets available in seaborn library. Load the 'mpg' dataset."
      ]
    },
    {
      "cell_type": "code",
      "metadata": {
        "id": "hxoTPKRC71NT",
        "outputId": "f44153c5-a2ae-4f7f-b7d1-2ae3e4034cf3",
        "colab": {
          "base_uri": "https://localhost:8080/"
        }
      },
      "source": [
        "# importing seaborn\n",
        "import seaborn as sns\n",
        "\n",
        "mpg=sns.load_dataset('mpg')\n",
        "\n",
        "print(mpg)"
      ],
      "execution_count": 7,
      "outputs": [
        {
          "output_type": "stream",
          "text": [
            "      mpg  cylinders  ...  origin                       name\n",
            "0    18.0          8  ...     usa  chevrolet chevelle malibu\n",
            "1    15.0          8  ...     usa          buick skylark 320\n",
            "2    18.0          8  ...     usa         plymouth satellite\n",
            "3    16.0          8  ...     usa              amc rebel sst\n",
            "4    17.0          8  ...     usa                ford torino\n",
            "..    ...        ...  ...     ...                        ...\n",
            "393  27.0          4  ...     usa            ford mustang gl\n",
            "394  44.0          4  ...  europe                  vw pickup\n",
            "395  32.0          4  ...     usa              dodge rampage\n",
            "396  28.0          4  ...     usa                ford ranger\n",
            "397  31.0          4  ...     usa                 chevy s-10\n",
            "\n",
            "[398 rows x 9 columns]\n"
          ],
          "name": "stdout"
        }
      ]
    },
    {
      "cell_type": "markdown",
      "metadata": {
        "id": "-MgDJq1c-Cmp"
      },
      "source": [
        "# **Question 5:**"
      ]
    },
    {
      "cell_type": "markdown",
      "metadata": {
        "id": "p3J3tZI6-Ggk"
      },
      "source": [
        "Which country origin cars are a part of this dataset?"
      ]
    },
    {
      "cell_type": "code",
      "metadata": {
        "id": "hmk1zTtO7y53",
        "outputId": "dc9aeed6-0eda-4a64-da64-f7913e34e090",
        "colab": {
          "base_uri": "https://localhost:8080/"
        }
      },
      "source": [
        "# importing seaborn\n",
        "import seaborn as sns\n",
        "# importing pandas with alias name\n",
        "import pandas as pd\n",
        "\n",
        "# loading the dataset from seaborn\n",
        "mpg=sns.load_dataset('mpg')\n",
        "\n",
        "# creating a dataframe\n",
        "df = pd.DataFrame(mpg)\n",
        "\n",
        "# Displaying the country origin from where cars belong\n",
        "df.origin.unique()"
      ],
      "execution_count": 8,
      "outputs": [
        {
          "output_type": "execute_result",
          "data": {
            "text/plain": [
              "array(['usa', 'japan', 'europe'], dtype=object)"
            ]
          },
          "metadata": {
            "tags": []
          },
          "execution_count": 8
        }
      ]
    },
    {
      "cell_type": "markdown",
      "metadata": {
        "id": "biEvaQCU-Ol1"
      },
      "source": [
        "# **Question 6:**"
      ]
    },
    {
      "cell_type": "markdown",
      "metadata": {
        "id": "8OM1ZsDG-SfK"
      },
      "source": [
        "Extract the part of the dataframe which contains cars belonging to 'usa'"
      ]
    },
    {
      "cell_type": "code",
      "metadata": {
        "id": "-Uf8NfeH-YXt",
        "outputId": "26a5a4e3-fe6d-4168-b56f-1baa5b3087f3",
        "colab": {
          "base_uri": "https://localhost:8080/",
          "height": 402
        }
      },
      "source": [
        "# importing seaborn\n",
        "import seaborn as sns\n",
        "# importing pandas with alias name\n",
        "import pandas as pd\n",
        "\n",
        "# loading the dataset from seaborn\n",
        "mpg=sns.load_dataset('mpg')\n",
        "\n",
        "# creating a dataframe\n",
        "df = pd.DataFrame(mpg)\n",
        "\n",
        "# Displaying the part from dataframe where cars belong to \"usa\"\n",
        "df[df['origin'].str.contains(\"usa\")]"
      ],
      "execution_count": 9,
      "outputs": [
        {
          "output_type": "execute_result",
          "data": {
            "text/html": [
              "<div>\n",
              "<style scoped>\n",
              "    .dataframe tbody tr th:only-of-type {\n",
              "        vertical-align: middle;\n",
              "    }\n",
              "\n",
              "    .dataframe tbody tr th {\n",
              "        vertical-align: top;\n",
              "    }\n",
              "\n",
              "    .dataframe thead th {\n",
              "        text-align: right;\n",
              "    }\n",
              "</style>\n",
              "<table border=\"1\" class=\"dataframe\">\n",
              "  <thead>\n",
              "    <tr style=\"text-align: right;\">\n",
              "      <th></th>\n",
              "      <th>mpg</th>\n",
              "      <th>cylinders</th>\n",
              "      <th>displacement</th>\n",
              "      <th>horsepower</th>\n",
              "      <th>weight</th>\n",
              "      <th>acceleration</th>\n",
              "      <th>model_year</th>\n",
              "      <th>origin</th>\n",
              "      <th>name</th>\n",
              "    </tr>\n",
              "  </thead>\n",
              "  <tbody>\n",
              "    <tr>\n",
              "      <th>0</th>\n",
              "      <td>18.0</td>\n",
              "      <td>8</td>\n",
              "      <td>307.0</td>\n",
              "      <td>130.0</td>\n",
              "      <td>3504</td>\n",
              "      <td>12.0</td>\n",
              "      <td>70</td>\n",
              "      <td>usa</td>\n",
              "      <td>chevrolet chevelle malibu</td>\n",
              "    </tr>\n",
              "    <tr>\n",
              "      <th>1</th>\n",
              "      <td>15.0</td>\n",
              "      <td>8</td>\n",
              "      <td>350.0</td>\n",
              "      <td>165.0</td>\n",
              "      <td>3693</td>\n",
              "      <td>11.5</td>\n",
              "      <td>70</td>\n",
              "      <td>usa</td>\n",
              "      <td>buick skylark 320</td>\n",
              "    </tr>\n",
              "    <tr>\n",
              "      <th>2</th>\n",
              "      <td>18.0</td>\n",
              "      <td>8</td>\n",
              "      <td>318.0</td>\n",
              "      <td>150.0</td>\n",
              "      <td>3436</td>\n",
              "      <td>11.0</td>\n",
              "      <td>70</td>\n",
              "      <td>usa</td>\n",
              "      <td>plymouth satellite</td>\n",
              "    </tr>\n",
              "    <tr>\n",
              "      <th>3</th>\n",
              "      <td>16.0</td>\n",
              "      <td>8</td>\n",
              "      <td>304.0</td>\n",
              "      <td>150.0</td>\n",
              "      <td>3433</td>\n",
              "      <td>12.0</td>\n",
              "      <td>70</td>\n",
              "      <td>usa</td>\n",
              "      <td>amc rebel sst</td>\n",
              "    </tr>\n",
              "    <tr>\n",
              "      <th>4</th>\n",
              "      <td>17.0</td>\n",
              "      <td>8</td>\n",
              "      <td>302.0</td>\n",
              "      <td>140.0</td>\n",
              "      <td>3449</td>\n",
              "      <td>10.5</td>\n",
              "      <td>70</td>\n",
              "      <td>usa</td>\n",
              "      <td>ford torino</td>\n",
              "    </tr>\n",
              "    <tr>\n",
              "      <th>...</th>\n",
              "      <td>...</td>\n",
              "      <td>...</td>\n",
              "      <td>...</td>\n",
              "      <td>...</td>\n",
              "      <td>...</td>\n",
              "      <td>...</td>\n",
              "      <td>...</td>\n",
              "      <td>...</td>\n",
              "      <td>...</td>\n",
              "    </tr>\n",
              "    <tr>\n",
              "      <th>392</th>\n",
              "      <td>27.0</td>\n",
              "      <td>4</td>\n",
              "      <td>151.0</td>\n",
              "      <td>90.0</td>\n",
              "      <td>2950</td>\n",
              "      <td>17.3</td>\n",
              "      <td>82</td>\n",
              "      <td>usa</td>\n",
              "      <td>chevrolet camaro</td>\n",
              "    </tr>\n",
              "    <tr>\n",
              "      <th>393</th>\n",
              "      <td>27.0</td>\n",
              "      <td>4</td>\n",
              "      <td>140.0</td>\n",
              "      <td>86.0</td>\n",
              "      <td>2790</td>\n",
              "      <td>15.6</td>\n",
              "      <td>82</td>\n",
              "      <td>usa</td>\n",
              "      <td>ford mustang gl</td>\n",
              "    </tr>\n",
              "    <tr>\n",
              "      <th>395</th>\n",
              "      <td>32.0</td>\n",
              "      <td>4</td>\n",
              "      <td>135.0</td>\n",
              "      <td>84.0</td>\n",
              "      <td>2295</td>\n",
              "      <td>11.6</td>\n",
              "      <td>82</td>\n",
              "      <td>usa</td>\n",
              "      <td>dodge rampage</td>\n",
              "    </tr>\n",
              "    <tr>\n",
              "      <th>396</th>\n",
              "      <td>28.0</td>\n",
              "      <td>4</td>\n",
              "      <td>120.0</td>\n",
              "      <td>79.0</td>\n",
              "      <td>2625</td>\n",
              "      <td>18.6</td>\n",
              "      <td>82</td>\n",
              "      <td>usa</td>\n",
              "      <td>ford ranger</td>\n",
              "    </tr>\n",
              "    <tr>\n",
              "      <th>397</th>\n",
              "      <td>31.0</td>\n",
              "      <td>4</td>\n",
              "      <td>119.0</td>\n",
              "      <td>82.0</td>\n",
              "      <td>2720</td>\n",
              "      <td>19.4</td>\n",
              "      <td>82</td>\n",
              "      <td>usa</td>\n",
              "      <td>chevy s-10</td>\n",
              "    </tr>\n",
              "  </tbody>\n",
              "</table>\n",
              "<p>249 rows × 9 columns</p>\n",
              "</div>"
            ],
            "text/plain": [
              "      mpg  cylinders  ...  origin                       name\n",
              "0    18.0          8  ...     usa  chevrolet chevelle malibu\n",
              "1    15.0          8  ...     usa          buick skylark 320\n",
              "2    18.0          8  ...     usa         plymouth satellite\n",
              "3    16.0          8  ...     usa              amc rebel sst\n",
              "4    17.0          8  ...     usa                ford torino\n",
              "..    ...        ...  ...     ...                        ...\n",
              "392  27.0          4  ...     usa           chevrolet camaro\n",
              "393  27.0          4  ...     usa            ford mustang gl\n",
              "395  32.0          4  ...     usa              dodge rampage\n",
              "396  28.0          4  ...     usa                ford ranger\n",
              "397  31.0          4  ...     usa                 chevy s-10\n",
              "\n",
              "[249 rows x 9 columns]"
            ]
          },
          "metadata": {
            "tags": []
          },
          "execution_count": 9
        }
      ]
    }
  ]
}