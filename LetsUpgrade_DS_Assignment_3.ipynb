{
  "nbformat": 4,
  "nbformat_minor": 0,
  "metadata": {
    "colab": {
      "name": "LetsUpgrade_DS_Assignment_3.ipynb",
      "provenance": [],
      "collapsed_sections": []
    },
    "kernelspec": {
      "name": "python3",
      "display_name": "Python 3"
    }
  },
  "cells": [
    {
      "cell_type": "markdown",
      "metadata": {
        "id": "Ggfn6nJjNVz6"
      },
      "source": [
        "\n",
        "# **Questions 1:**"
      ]
    },
    {
      "cell_type": "markdown",
      "metadata": {
        "id": "LXbp9FNUNj3Q"
      },
      "source": [
        "Create a numpy array starting from 2 till 50 with a stepsize of 3."
      ]
    },
    {
      "cell_type": "code",
      "metadata": {
        "id": "HOJMIDSMMaQP"
      },
      "source": [
        "import numpy as np"
      ],
      "execution_count": 3,
      "outputs": []
    },
    {
      "cell_type": "code",
      "metadata": {
        "id": "6NWUdY95NHyS",
        "outputId": "17fa53af-70ed-40ef-a30f-703cfe8b9591",
        "colab": {
          "base_uri": "https://localhost:8080/"
        }
      },
      "source": [
        "arr = np.arange(2, 53, 3)\n",
        "arr"
      ],
      "execution_count": 4,
      "outputs": [
        {
          "output_type": "execute_result",
          "data": {
            "text/plain": [
              "array([ 2,  5,  8, 11, 14, 17, 20, 23, 26, 29, 32, 35, 38, 41, 44, 47, 50])"
            ]
          },
          "metadata": {
            "tags": []
          },
          "execution_count": 4
        }
      ]
    },
    {
      "cell_type": "markdown",
      "metadata": {
        "id": "Do5sQ6U3NvGB"
      },
      "source": [
        "# **Question 2:**"
      ]
    },
    {
      "cell_type": "markdown",
      "metadata": {
        "id": "aJDx29t4N4ZJ"
      },
      "source": [
        "Accept two lists of 5 elements each from the user. Convert them to numpy arrays. Concatenate these arrays and print it. Also sort these arrays and print it."
      ]
    },
    {
      "cell_type": "code",
      "metadata": {
        "id": "YqDO0q5JN9YI"
      },
      "source": [
        "A=[11,25,3,4,5]\n",
        "B=[6,77,8,69,10]\n",
        "arr1=np.array(A)\n",
        "arr2=np.array(B)"
      ],
      "execution_count": 5,
      "outputs": []
    },
    {
      "cell_type": "code",
      "metadata": {
        "id": "PUjrNTdRODon",
        "outputId": "dc9e2a9a-52c5-4179-f9c9-279b27a98f4a",
        "colab": {
          "base_uri": "https://localhost:8080/"
        }
      },
      "source": [
        "arr1 #list A converted to array"
      ],
      "execution_count": 6,
      "outputs": [
        {
          "output_type": "execute_result",
          "data": {
            "text/plain": [
              "array([11, 25,  3,  4,  5])"
            ]
          },
          "metadata": {
            "tags": []
          },
          "execution_count": 6
        }
      ]
    },
    {
      "cell_type": "code",
      "metadata": {
        "id": "KWda9INTOHyA",
        "outputId": "a59f8af3-4219-46ba-e6e0-f23b4ad590ab",
        "colab": {
          "base_uri": "https://localhost:8080/"
        }
      },
      "source": [
        "arr2 #list B converted to array"
      ],
      "execution_count": 7,
      "outputs": [
        {
          "output_type": "execute_result",
          "data": {
            "text/plain": [
              "array([ 6, 77,  8, 69, 10])"
            ]
          },
          "metadata": {
            "tags": []
          },
          "execution_count": 7
        }
      ]
    },
    {
      "cell_type": "code",
      "metadata": {
        "id": "EReUr78yOMyT",
        "outputId": "e22165fa-edc6-4eaf-b511-26830eee6225",
        "colab": {
          "base_uri": "https://localhost:8080/"
        }
      },
      "source": [
        "a=np.concatenate((arr1,arr2)) #array concatenation\n",
        "a"
      ],
      "execution_count": 8,
      "outputs": [
        {
          "output_type": "execute_result",
          "data": {
            "text/plain": [
              "array([11, 25,  3,  4,  5,  6, 77,  8, 69, 10])"
            ]
          },
          "metadata": {
            "tags": []
          },
          "execution_count": 8
        }
      ]
    },
    {
      "cell_type": "code",
      "metadata": {
        "id": "_Zx38-ZEOQgO",
        "outputId": "ef78c290-878e-49a5-fcab-7993f4528d56",
        "colab": {
          "base_uri": "https://localhost:8080/"
        }
      },
      "source": [
        "np.sort(a) #sorting of concatenated array"
      ],
      "execution_count": 9,
      "outputs": [
        {
          "output_type": "execute_result",
          "data": {
            "text/plain": [
              "array([ 3,  4,  5,  6,  8, 10, 11, 25, 69, 77])"
            ]
          },
          "metadata": {
            "tags": []
          },
          "execution_count": 9
        }
      ]
    },
    {
      "cell_type": "markdown",
      "metadata": {
        "id": "jabwkcVBOSod"
      },
      "source": [
        "# **Question 3:**"
      ]
    },
    {
      "cell_type": "markdown",
      "metadata": {
        "id": "XC9aP8MeOYXn"
      },
      "source": [
        "Write a code snippet to find the dimensions of a ndarray and its size."
      ]
    },
    {
      "cell_type": "code",
      "metadata": {
        "id": "NZC22a1QObLe",
        "outputId": "8d562d01-1e0f-4be1-b235-88eae3b554c9",
        "colab": {
          "base_uri": "https://localhost:8080/"
        }
      },
      "source": [
        "b=np.ndarray([3,4,2]) #ndarray\n",
        "b"
      ],
      "execution_count": 10,
      "outputs": [
        {
          "output_type": "execute_result",
          "data": {
            "text/plain": [
              "array([[[0., 0.],\n",
              "        [0., 0.],\n",
              "        [0., 0.],\n",
              "        [0., 0.]],\n",
              "\n",
              "       [[0., 0.],\n",
              "        [0., 0.],\n",
              "        [0., 0.],\n",
              "        [0., 0.]],\n",
              "\n",
              "       [[0., 0.],\n",
              "        [0., 0.],\n",
              "        [0., 0.],\n",
              "        [0., 0.]]])"
            ]
          },
          "metadata": {
            "tags": []
          },
          "execution_count": 10
        }
      ]
    },
    {
      "cell_type": "code",
      "metadata": {
        "id": "4j4ETr-ZOsYA",
        "outputId": "7ca2bf25-da66-42f4-8523-dfcdbe169c11",
        "colab": {
          "base_uri": "https://localhost:8080/"
        }
      },
      "source": [
        "np.ndim(b) #dimension of ndarray"
      ],
      "execution_count": 11,
      "outputs": [
        {
          "output_type": "execute_result",
          "data": {
            "text/plain": [
              "3"
            ]
          },
          "metadata": {
            "tags": []
          },
          "execution_count": 11
        }
      ]
    },
    {
      "cell_type": "code",
      "metadata": {
        "id": "abQHhZuHOwnC",
        "outputId": "9b3f3e63-4c55-41dd-8c81-38e879f41865",
        "colab": {
          "base_uri": "https://localhost:8080/"
        }
      },
      "source": [
        "np.size(b) #size of ndarray"
      ],
      "execution_count": 12,
      "outputs": [
        {
          "output_type": "execute_result",
          "data": {
            "text/plain": [
              "24"
            ]
          },
          "metadata": {
            "tags": []
          },
          "execution_count": 12
        }
      ]
    },
    {
      "cell_type": "markdown",
      "metadata": {
        "id": "WnEjyNBOOzal"
      },
      "source": [
        "# **Question 4:**"
      ]
    },
    {
      "cell_type": "markdown",
      "metadata": {
        "id": "28UnaHmGO4Kb"
      },
      "source": [
        "How to convert a 1D array into a 2D array? Demonstrate with the help of a code snippet\n",
        "Hint: np.newaxis, np.expand_dims"
      ]
    },
    {
      "cell_type": "markdown",
      "metadata": {
        "id": "4dKa6UGFO_xa"
      },
      "source": [
        "# *Converting 1D array to 2D array using np.newaxis*"
      ]
    },
    {
      "cell_type": "code",
      "metadata": {
        "id": "1dkMETKrowWQ",
        "outputId": "8ef4e158-af73-4b27-ee4f-a0fc52d2a397",
        "colab": {
          "base_uri": "https://localhost:8080/"
        }
      },
      "source": [
        "a1 = np.arange(4)\n",
        "a1.shape"
      ],
      "execution_count": 13,
      "outputs": [
        {
          "output_type": "execute_result",
          "data": {
            "text/plain": [
              "(4,)"
            ]
          },
          "metadata": {
            "tags": []
          },
          "execution_count": 13
        }
      ]
    },
    {
      "cell_type": "code",
      "metadata": {
        "id": "kYKEhNKeo8Z0",
        "outputId": "02f5bee6-249e-45a8-c589-82354c8c6cd4",
        "colab": {
          "base_uri": "https://localhost:8080/"
        }
      },
      "source": [
        "row_vec = a1[np.newaxis, :]     # arr[None, :]\n",
        "row_vec.shape"
      ],
      "execution_count": 14,
      "outputs": [
        {
          "output_type": "execute_result",
          "data": {
            "text/plain": [
              "(1, 4)"
            ]
          },
          "metadata": {
            "tags": []
          },
          "execution_count": 14
        }
      ]
    },
    {
      "cell_type": "code",
      "metadata": {
        "id": "bfo16tGlo_yq",
        "outputId": "7b2e6ca1-4b4c-4b43-d203-c18940ce881f",
        "colab": {
          "base_uri": "https://localhost:8080/"
        }
      },
      "source": [
        "row_vec #1D array"
      ],
      "execution_count": 15,
      "outputs": [
        {
          "output_type": "execute_result",
          "data": {
            "text/plain": [
              "array([[0, 1, 2, 3]])"
            ]
          },
          "metadata": {
            "tags": []
          },
          "execution_count": 15
        }
      ]
    },
    {
      "cell_type": "code",
      "metadata": {
        "id": "gVUGfqjopDO4",
        "outputId": "926908f1-1b9d-4d26-c7a9-4827ee6fb6c3",
        "colab": {
          "base_uri": "https://localhost:8080/"
        }
      },
      "source": [
        "col_vec = a1[:, np.newaxis]     # arr[:, None]\n",
        "col_vec.shape"
      ],
      "execution_count": 16,
      "outputs": [
        {
          "output_type": "execute_result",
          "data": {
            "text/plain": [
              "(4, 1)"
            ]
          },
          "metadata": {
            "tags": []
          },
          "execution_count": 16
        }
      ]
    },
    {
      "cell_type": "code",
      "metadata": {
        "id": "2PbCKKs0pKFC",
        "outputId": "69dcf085-1a31-486a-bf21-7a179253a454",
        "colab": {
          "base_uri": "https://localhost:8080/"
        }
      },
      "source": [
        "col_vec #converted to 2D array using np.newaxis"
      ],
      "execution_count": 17,
      "outputs": [
        {
          "output_type": "execute_result",
          "data": {
            "text/plain": [
              "array([[0],\n",
              "       [1],\n",
              "       [2],\n",
              "       [3]])"
            ]
          },
          "metadata": {
            "tags": []
          },
          "execution_count": 17
        }
      ]
    },
    {
      "cell_type": "markdown",
      "metadata": {
        "id": "1KV8YMnZpOC8"
      },
      "source": [
        "# *Converting 1D array to 2D array using np.expand_dims*"
      ]
    },
    {
      "cell_type": "code",
      "metadata": {
        "id": "JfEddyl7pSrg",
        "outputId": "f7bfb502-6515-47f0-d0ce-2c520d26a0ca",
        "colab": {
          "base_uri": "https://localhost:8080/"
        }
      },
      "source": [
        "a1"
      ],
      "execution_count": 18,
      "outputs": [
        {
          "output_type": "execute_result",
          "data": {
            "text/plain": [
              "array([0, 1, 2, 3])"
            ]
          },
          "metadata": {
            "tags": []
          },
          "execution_count": 18
        }
      ]
    },
    {
      "cell_type": "code",
      "metadata": {
        "id": "-hg7h1OZpXIp",
        "outputId": "f9f9f75f-9ebf-4d90-da6c-d4418ea32421",
        "colab": {
          "base_uri": "https://localhost:8080/"
        }
      },
      "source": [
        "np.ndim(a1)"
      ],
      "execution_count": 19,
      "outputs": [
        {
          "output_type": "execute_result",
          "data": {
            "text/plain": [
              "1"
            ]
          },
          "metadata": {
            "tags": []
          },
          "execution_count": 19
        }
      ]
    },
    {
      "cell_type": "code",
      "metadata": {
        "id": "VNI-EkpxpaqZ",
        "outputId": "a87b05ab-b438-4a15-dec4-24cc36a7456b",
        "colab": {
          "base_uri": "https://localhost:8080/"
        }
      },
      "source": [
        "a2 = np.expand_dims(a1, axis=(1,-2,3))\n",
        "a2.shape"
      ],
      "execution_count": 20,
      "outputs": [
        {
          "output_type": "execute_result",
          "data": {
            "text/plain": [
              "(4, 1, 1, 1)"
            ]
          },
          "metadata": {
            "tags": []
          },
          "execution_count": 20
        }
      ]
    },
    {
      "cell_type": "code",
      "metadata": {
        "id": "UDWnEYozpfUI",
        "outputId": "7062ff3c-2a12-45a5-aa6a-e50e8d953149",
        "colab": {
          "base_uri": "https://localhost:8080/"
        }
      },
      "source": [
        "np.ndim(a2)"
      ],
      "execution_count": 21,
      "outputs": [
        {
          "output_type": "execute_result",
          "data": {
            "text/plain": [
              "4"
            ]
          },
          "metadata": {
            "tags": []
          },
          "execution_count": 21
        }
      ]
    },
    {
      "cell_type": "markdown",
      "metadata": {
        "id": "6XwnY0T6pi0u"
      },
      "source": [
        "# **Question 5:** "
      ]
    },
    {
      "cell_type": "markdown",
      "metadata": {
        "id": "_C4S7GRJpovS"
      },
      "source": [
        "Consider two square numpy arrays. Stack them vertically and horizontally. Hint: Use vstack(), hstack()"
      ]
    },
    {
      "cell_type": "code",
      "metadata": {
        "id": "mb-Ne2CspvC0",
        "outputId": "b57e5c88-1cde-45d8-ffe2-b91bf02835e9",
        "colab": {
          "base_uri": "https://localhost:8080/"
        }
      },
      "source": [
        "f = np.array([1,2,3])\n",
        "g = np.array([4,5,6])  \n",
        "\n",
        "print('Horizontal Append:\\n', np.hstack((f, g))) #using hstack()"
      ],
      "execution_count": 22,
      "outputs": [
        {
          "output_type": "stream",
          "text": [
            "Horizontal Append:\n",
            " [1 2 3 4 5 6]\n"
          ],
          "name": "stdout"
        }
      ]
    },
    {
      "cell_type": "code",
      "metadata": {
        "id": "wcT1tS_rp2mo",
        "outputId": "bfe98efd-09ea-49bc-a7b5-7345a73e02de",
        "colab": {
          "base_uri": "https://localhost:8080/"
        }
      },
      "source": [
        "f = np.array([1,2,3])\n",
        "g = np.array([4,5,6])  \n",
        "\n",
        "print('Vertical Append:\\n', np.vstack((f, g)))  #using vstack()"
      ],
      "execution_count": 23,
      "outputs": [
        {
          "output_type": "stream",
          "text": [
            "Vertical Append:\n",
            " [[1 2 3]\n",
            " [4 5 6]]\n"
          ],
          "name": "stdout"
        }
      ]
    },
    {
      "cell_type": "markdown",
      "metadata": {
        "id": "TPtVWd_hp478"
      },
      "source": [
        "# **Question 6:**"
      ]
    },
    {
      "cell_type": "markdown",
      "metadata": {
        "id": "cHciXkyxp8Y-"
      },
      "source": [
        "How to get unique items and counts of unique items?"
      ]
    },
    {
      "cell_type": "code",
      "metadata": {
        "id": "A1esK0FiqCB2",
        "outputId": "0f04752f-87b0-4d8a-e8a1-17bda726e344",
        "colab": {
          "base_uri": "https://localhost:8080/"
        }
      },
      "source": [
        "a = np.array( [10,10,20,10,20,20,20,30, 30,50,40,40] )\n",
        "print(\"Original array:\")\n",
        "print(a ,\"\\n\")\n",
        "unique_elements, counts_elements = np.unique(a, return_counts=True)\n",
        "print(\"Frequency of unique values of the said array:\")\n",
        "print(np.asarray((unique_elements, counts_elements)))"
      ],
      "execution_count": 24,
      "outputs": [
        {
          "output_type": "stream",
          "text": [
            "Original array:\n",
            "[10 10 20 10 20 20 20 30 30 50 40 40] \n",
            "\n",
            "Frequency of unique values of the said array:\n",
            "[[10 20 30 40 50]\n",
            " [ 3  4  2  2  1]]\n"
          ],
          "name": "stdout"
        }
      ]
    }
  ]
}